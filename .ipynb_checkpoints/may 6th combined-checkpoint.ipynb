{
 "cells": [
  {
   "cell_type": "code",
   "execution_count": 88,
   "metadata": {},
   "outputs": [],
   "source": [
    "import pandas as pd\n",
    "import pickle\n",
    "from collections import Counter\n",
    "import copy\n",
    "\n",
    "import xgboost as xgb\n",
    "import seaborn as sns\n",
    "import matplotlib.pyplot as plt\n",
    "\n",
    "from sklearn.impute import SimpleImputer\n",
    "from sklearn.preprocessing import OneHotEncoder\n",
    "from sklearn.preprocessing import StandardScaler\n",
    "\n",
    "from sklearn.model_selection import GridSearchCV\n",
    "from sklearn.model_selection import train_test_split\n",
    "\n",
    "from sklearn import metrics\n",
    "from sklearn.metrics import confusion_matrix\n",
    "\n",
    "from sklearn.ensemble import GradientBoostingClassifier\n",
    "from sklearn.ensemble import VotingClassifier\n",
    "\n",
    "\n"
   ]
  },
  {
   "cell_type": "code",
   "execution_count": 2,
   "metadata": {},
   "outputs": [
    {
     "name": "stderr",
     "output_type": "stream",
     "text": [
      "/Users/williamyee/anaconda3/envs/py36/lib/python3.6/site-packages/IPython/core/interactiveshell.py:3044: DtypeWarning: Columns (32,84,87,88,100,110,117,124,125,128,130,131,165) have mixed types. Specify dtype option on import or set low_memory=False.\n",
      "  interactivity=interactivity, compiler=compiler, result=result)\n"
     ]
    },
    {
     "data": {
      "text/html": [
       "<div>\n",
       "<style scoped>\n",
       "    .dataframe tbody tr th:only-of-type {\n",
       "        vertical-align: middle;\n",
       "    }\n",
       "\n",
       "    .dataframe tbody tr th {\n",
       "        vertical-align: top;\n",
       "    }\n",
       "\n",
       "    .dataframe thead th {\n",
       "        text-align: right;\n",
       "    }\n",
       "</style>\n",
       "<table border=\"1\" class=\"dataframe\">\n",
       "  <thead>\n",
       "    <tr style=\"text-align: right;\">\n",
       "      <th></th>\n",
       "      <th>Unnamed: 0</th>\n",
       "      <th>GenderSelect</th>\n",
       "      <th>Country</th>\n",
       "      <th>Age</th>\n",
       "      <th>StudentStatus</th>\n",
       "      <th>LearningDataScience</th>\n",
       "      <th>CodeWriter</th>\n",
       "      <th>CareerSwitcher</th>\n",
       "      <th>CurrentJobTitleSelect</th>\n",
       "      <th>TitleFit</th>\n",
       "      <th>...</th>\n",
       "      <th>JobFactorExperienceLevel</th>\n",
       "      <th>JobFactorDepartment</th>\n",
       "      <th>JobFactorTitle</th>\n",
       "      <th>JobFactorCompanyFunding</th>\n",
       "      <th>JobFactorImpact</th>\n",
       "      <th>JobFactorRemote</th>\n",
       "      <th>JobFactorIndustry</th>\n",
       "      <th>JobFactorLeaderReputation</th>\n",
       "      <th>JobFactorDiversity</th>\n",
       "      <th>JobFactorPublishingOpportunity</th>\n",
       "    </tr>\n",
       "    <tr>\n",
       "      <th>EmploymentStatus</th>\n",
       "      <th></th>\n",
       "      <th></th>\n",
       "      <th></th>\n",
       "      <th></th>\n",
       "      <th></th>\n",
       "      <th></th>\n",
       "      <th></th>\n",
       "      <th></th>\n",
       "      <th></th>\n",
       "      <th></th>\n",
       "      <th></th>\n",
       "      <th></th>\n",
       "      <th></th>\n",
       "      <th></th>\n",
       "      <th></th>\n",
       "      <th></th>\n",
       "      <th></th>\n",
       "      <th></th>\n",
       "      <th></th>\n",
       "      <th></th>\n",
       "      <th></th>\n",
       "    </tr>\n",
       "  </thead>\n",
       "  <tbody>\n",
       "    <tr>\n",
       "      <th>Employed full-time</th>\n",
       "      <td>10897</td>\n",
       "      <td>10853</td>\n",
       "      <td>10840</td>\n",
       "      <td>10702</td>\n",
       "      <td>0</td>\n",
       "      <td>0</td>\n",
       "      <td>10843</td>\n",
       "      <td>2400</td>\n",
       "      <td>9787</td>\n",
       "      <td>9533</td>\n",
       "      <td>...</td>\n",
       "      <td>1066</td>\n",
       "      <td>1060</td>\n",
       "      <td>1061</td>\n",
       "      <td>1062</td>\n",
       "      <td>1062</td>\n",
       "      <td>1068</td>\n",
       "      <td>1065</td>\n",
       "      <td>1063</td>\n",
       "      <td>1065</td>\n",
       "      <td>1075</td>\n",
       "    </tr>\n",
       "    <tr>\n",
       "      <th>Employed part-time</th>\n",
       "      <td>917</td>\n",
       "      <td>910</td>\n",
       "      <td>907</td>\n",
       "      <td>901</td>\n",
       "      <td>0</td>\n",
       "      <td>0</td>\n",
       "      <td>903</td>\n",
       "      <td>288</td>\n",
       "      <td>787</td>\n",
       "      <td>751</td>\n",
       "      <td>...</td>\n",
       "      <td>132</td>\n",
       "      <td>131</td>\n",
       "      <td>132</td>\n",
       "      <td>131</td>\n",
       "      <td>132</td>\n",
       "      <td>133</td>\n",
       "      <td>132</td>\n",
       "      <td>134</td>\n",
       "      <td>133</td>\n",
       "      <td>132</td>\n",
       "    </tr>\n",
       "    <tr>\n",
       "      <th>I prefer not to say</th>\n",
       "      <td>420</td>\n",
       "      <td>404</td>\n",
       "      <td>399</td>\n",
       "      <td>382</td>\n",
       "      <td>380</td>\n",
       "      <td>383</td>\n",
       "      <td>0</td>\n",
       "      <td>0</td>\n",
       "      <td>0</td>\n",
       "      <td>0</td>\n",
       "      <td>...</td>\n",
       "      <td>190</td>\n",
       "      <td>188</td>\n",
       "      <td>189</td>\n",
       "      <td>187</td>\n",
       "      <td>187</td>\n",
       "      <td>188</td>\n",
       "      <td>188</td>\n",
       "      <td>187</td>\n",
       "      <td>187</td>\n",
       "      <td>187</td>\n",
       "    </tr>\n",
       "    <tr>\n",
       "      <th>Independent contractor, freelancer, or self-employed</th>\n",
       "      <td>1330</td>\n",
       "      <td>1321</td>\n",
       "      <td>1321</td>\n",
       "      <td>1302</td>\n",
       "      <td>0</td>\n",
       "      <td>0</td>\n",
       "      <td>1322</td>\n",
       "      <td>281</td>\n",
       "      <td>1176</td>\n",
       "      <td>1142</td>\n",
       "      <td>...</td>\n",
       "      <td>105</td>\n",
       "      <td>104</td>\n",
       "      <td>104</td>\n",
       "      <td>104</td>\n",
       "      <td>104</td>\n",
       "      <td>106</td>\n",
       "      <td>106</td>\n",
       "      <td>103</td>\n",
       "      <td>104</td>\n",
       "      <td>105</td>\n",
       "    </tr>\n",
       "    <tr>\n",
       "      <th>Not employed, and not looking for work</th>\n",
       "      <td>924</td>\n",
       "      <td>919</td>\n",
       "      <td>915</td>\n",
       "      <td>909</td>\n",
       "      <td>900</td>\n",
       "      <td>901</td>\n",
       "      <td>0</td>\n",
       "      <td>0</td>\n",
       "      <td>0</td>\n",
       "      <td>0</td>\n",
       "      <td>...</td>\n",
       "      <td>522</td>\n",
       "      <td>522</td>\n",
       "      <td>519</td>\n",
       "      <td>521</td>\n",
       "      <td>519</td>\n",
       "      <td>525</td>\n",
       "      <td>520</td>\n",
       "      <td>521</td>\n",
       "      <td>524</td>\n",
       "      <td>520</td>\n",
       "    </tr>\n",
       "    <tr>\n",
       "      <th>Not employed, but looking for work</th>\n",
       "      <td>2110</td>\n",
       "      <td>2098</td>\n",
       "      <td>2096</td>\n",
       "      <td>2075</td>\n",
       "      <td>0</td>\n",
       "      <td>0</td>\n",
       "      <td>0</td>\n",
       "      <td>0</td>\n",
       "      <td>0</td>\n",
       "      <td>0</td>\n",
       "      <td>...</td>\n",
       "      <td>1422</td>\n",
       "      <td>1411</td>\n",
       "      <td>1409</td>\n",
       "      <td>1406</td>\n",
       "      <td>1390</td>\n",
       "      <td>1404</td>\n",
       "      <td>1398</td>\n",
       "      <td>1393</td>\n",
       "      <td>1397</td>\n",
       "      <td>1405</td>\n",
       "    </tr>\n",
       "    <tr>\n",
       "      <th>Retired</th>\n",
       "      <td>118</td>\n",
       "      <td>116</td>\n",
       "      <td>117</td>\n",
       "      <td>114</td>\n",
       "      <td>0</td>\n",
       "      <td>0</td>\n",
       "      <td>118</td>\n",
       "      <td>43</td>\n",
       "      <td>80</td>\n",
       "      <td>78</td>\n",
       "      <td>...</td>\n",
       "      <td>0</td>\n",
       "      <td>0</td>\n",
       "      <td>0</td>\n",
       "      <td>0</td>\n",
       "      <td>0</td>\n",
       "      <td>0</td>\n",
       "      <td>0</td>\n",
       "      <td>0</td>\n",
       "      <td>0</td>\n",
       "      <td>0</td>\n",
       "    </tr>\n",
       "  </tbody>\n",
       "</table>\n",
       "<p>7 rows × 228 columns</p>\n",
       "</div>"
      ],
      "text/plain": [
       "                                                    Unnamed: 0  GenderSelect  \\\n",
       "EmploymentStatus                                                               \n",
       "Employed full-time                                       10897         10853   \n",
       "Employed part-time                                         917           910   \n",
       "I prefer not to say                                        420           404   \n",
       "Independent contractor, freelancer, or self-emp...        1330          1321   \n",
       "Not employed, and not looking for work                     924           919   \n",
       "Not employed, but looking for work                        2110          2098   \n",
       "Retired                                                    118           116   \n",
       "\n",
       "                                                    Country    Age  \\\n",
       "EmploymentStatus                                                     \n",
       "Employed full-time                                    10840  10702   \n",
       "Employed part-time                                      907    901   \n",
       "I prefer not to say                                     399    382   \n",
       "Independent contractor, freelancer, or self-emp...     1321   1302   \n",
       "Not employed, and not looking for work                  915    909   \n",
       "Not employed, but looking for work                     2096   2075   \n",
       "Retired                                                 117    114   \n",
       "\n",
       "                                                    StudentStatus  \\\n",
       "EmploymentStatus                                                    \n",
       "Employed full-time                                              0   \n",
       "Employed part-time                                              0   \n",
       "I prefer not to say                                           380   \n",
       "Independent contractor, freelancer, or self-emp...              0   \n",
       "Not employed, and not looking for work                        900   \n",
       "Not employed, but looking for work                              0   \n",
       "Retired                                                         0   \n",
       "\n",
       "                                                    LearningDataScience  \\\n",
       "EmploymentStatus                                                          \n",
       "Employed full-time                                                    0   \n",
       "Employed part-time                                                    0   \n",
       "I prefer not to say                                                 383   \n",
       "Independent contractor, freelancer, or self-emp...                    0   \n",
       "Not employed, and not looking for work                              901   \n",
       "Not employed, but looking for work                                    0   \n",
       "Retired                                                               0   \n",
       "\n",
       "                                                    CodeWriter  \\\n",
       "EmploymentStatus                                                 \n",
       "Employed full-time                                       10843   \n",
       "Employed part-time                                         903   \n",
       "I prefer not to say                                          0   \n",
       "Independent contractor, freelancer, or self-emp...        1322   \n",
       "Not employed, and not looking for work                       0   \n",
       "Not employed, but looking for work                           0   \n",
       "Retired                                                    118   \n",
       "\n",
       "                                                    CareerSwitcher  \\\n",
       "EmploymentStatus                                                     \n",
       "Employed full-time                                            2400   \n",
       "Employed part-time                                             288   \n",
       "I prefer not to say                                              0   \n",
       "Independent contractor, freelancer, or self-emp...             281   \n",
       "Not employed, and not looking for work                           0   \n",
       "Not employed, but looking for work                               0   \n",
       "Retired                                                         43   \n",
       "\n",
       "                                                    CurrentJobTitleSelect  \\\n",
       "EmploymentStatus                                                            \n",
       "Employed full-time                                                   9787   \n",
       "Employed part-time                                                    787   \n",
       "I prefer not to say                                                     0   \n",
       "Independent contractor, freelancer, or self-emp...                   1176   \n",
       "Not employed, and not looking for work                                  0   \n",
       "Not employed, but looking for work                                      0   \n",
       "Retired                                                                80   \n",
       "\n",
       "                                                    TitleFit  ...  \\\n",
       "EmploymentStatus                                              ...   \n",
       "Employed full-time                                      9533  ...   \n",
       "Employed part-time                                       751  ...   \n",
       "I prefer not to say                                        0  ...   \n",
       "Independent contractor, freelancer, or self-emp...      1142  ...   \n",
       "Not employed, and not looking for work                     0  ...   \n",
       "Not employed, but looking for work                         0  ...   \n",
       "Retired                                                   78  ...   \n",
       "\n",
       "                                                    JobFactorExperienceLevel  \\\n",
       "EmploymentStatus                                                               \n",
       "Employed full-time                                                      1066   \n",
       "Employed part-time                                                       132   \n",
       "I prefer not to say                                                      190   \n",
       "Independent contractor, freelancer, or self-emp...                       105   \n",
       "Not employed, and not looking for work                                   522   \n",
       "Not employed, but looking for work                                      1422   \n",
       "Retired                                                                    0   \n",
       "\n",
       "                                                    JobFactorDepartment  \\\n",
       "EmploymentStatus                                                          \n",
       "Employed full-time                                                 1060   \n",
       "Employed part-time                                                  131   \n",
       "I prefer not to say                                                 188   \n",
       "Independent contractor, freelancer, or self-emp...                  104   \n",
       "Not employed, and not looking for work                              522   \n",
       "Not employed, but looking for work                                 1411   \n",
       "Retired                                                               0   \n",
       "\n",
       "                                                    JobFactorTitle  \\\n",
       "EmploymentStatus                                                     \n",
       "Employed full-time                                            1061   \n",
       "Employed part-time                                             132   \n",
       "I prefer not to say                                            189   \n",
       "Independent contractor, freelancer, or self-emp...             104   \n",
       "Not employed, and not looking for work                         519   \n",
       "Not employed, but looking for work                            1409   \n",
       "Retired                                                          0   \n",
       "\n",
       "                                                    JobFactorCompanyFunding  \\\n",
       "EmploymentStatus                                                              \n",
       "Employed full-time                                                     1062   \n",
       "Employed part-time                                                      131   \n",
       "I prefer not to say                                                     187   \n",
       "Independent contractor, freelancer, or self-emp...                      104   \n",
       "Not employed, and not looking for work                                  521   \n",
       "Not employed, but looking for work                                     1406   \n",
       "Retired                                                                   0   \n",
       "\n",
       "                                                    JobFactorImpact  \\\n",
       "EmploymentStatus                                                      \n",
       "Employed full-time                                             1062   \n",
       "Employed part-time                                              132   \n",
       "I prefer not to say                                             187   \n",
       "Independent contractor, freelancer, or self-emp...              104   \n",
       "Not employed, and not looking for work                          519   \n",
       "Not employed, but looking for work                             1390   \n",
       "Retired                                                           0   \n",
       "\n",
       "                                                    JobFactorRemote  \\\n",
       "EmploymentStatus                                                      \n",
       "Employed full-time                                             1068   \n",
       "Employed part-time                                              133   \n",
       "I prefer not to say                                             188   \n",
       "Independent contractor, freelancer, or self-emp...              106   \n",
       "Not employed, and not looking for work                          525   \n",
       "Not employed, but looking for work                             1404   \n",
       "Retired                                                           0   \n",
       "\n",
       "                                                    JobFactorIndustry  \\\n",
       "EmploymentStatus                                                        \n",
       "Employed full-time                                               1065   \n",
       "Employed part-time                                                132   \n",
       "I prefer not to say                                               188   \n",
       "Independent contractor, freelancer, or self-emp...                106   \n",
       "Not employed, and not looking for work                            520   \n",
       "Not employed, but looking for work                               1398   \n",
       "Retired                                                             0   \n",
       "\n",
       "                                                    JobFactorLeaderReputation  \\\n",
       "EmploymentStatus                                                                \n",
       "Employed full-time                                                       1063   \n",
       "Employed part-time                                                        134   \n",
       "I prefer not to say                                                       187   \n",
       "Independent contractor, freelancer, or self-emp...                        103   \n",
       "Not employed, and not looking for work                                    521   \n",
       "Not employed, but looking for work                                       1393   \n",
       "Retired                                                                     0   \n",
       "\n",
       "                                                    JobFactorDiversity  \\\n",
       "EmploymentStatus                                                         \n",
       "Employed full-time                                                1065   \n",
       "Employed part-time                                                 133   \n",
       "I prefer not to say                                                187   \n",
       "Independent contractor, freelancer, or self-emp...                 104   \n",
       "Not employed, and not looking for work                             524   \n",
       "Not employed, but looking for work                                1397   \n",
       "Retired                                                              0   \n",
       "\n",
       "                                                    JobFactorPublishingOpportunity  \n",
       "EmploymentStatus                                                                    \n",
       "Employed full-time                                                            1075  \n",
       "Employed part-time                                                             132  \n",
       "I prefer not to say                                                            187  \n",
       "Independent contractor, freelancer, or self-emp...                             105  \n",
       "Not employed, and not looking for work                                         520  \n",
       "Not employed, but looking for work                                            1405  \n",
       "Retired                                                                          0  \n",
       "\n",
       "[7 rows x 228 columns]"
      ]
     },
     "execution_count": 2,
     "metadata": {},
     "output_type": "execute_result"
    }
   ],
   "source": [
    "\n",
    "# pd.set_option('display.max_rows', 300)\n",
    "\n",
    "# survey = pd.read_csv('/Users/williamyee/Documents/Data Bootcamp/Classification-Project-DSjobs/Data/kaggle-survey-2017/multi_r_.csv', encoding = 'ISO-8859-1')\n",
    "\n",
    "# list(survey.columns)\n",
    "\n",
    "# survey.JobSatisfaction.value_counts()\n",
    "\n",
    "\n",
    "\n",
    "# survey.head()\n",
    "\n",
    "# survey.EmploymentStatus.unique()\n",
    "\n",
    "# survey.groupby('EmploymentStatus').count()\n",
    "\n",
    "# # survey.UniversityImportance.value_counts()\n",
    "\n",
    "# # survey.JobSatisfaction.value_counts()\n",
    "\n",
    "\n"
   ]
  },
  {
   "cell_type": "code",
   "execution_count": 3,
   "metadata": {},
   "outputs": [],
   "source": [
    "# conditions = [  survey.JobSatisfaction.isin(['7','8','9','10 - Highly Satisfied']),\n",
    "#                 survey.JobSatisfaction.isin(['1 - Highly Dissatisfied','2','3','4','5','6','I prefer not to share'])\n",
    "#              ]\n",
    "# choices = [1,0]\n",
    "# survey['JobSatisfaction'] = np.select(conditions, choices, default=survey.JobSatisfaction)\n",
    "\n",
    "\n",
    "# survey = survey[survey.JobSatisfaction.notna()]"
   ]
  },
  {
   "cell_type": "code",
   "execution_count": 4,
   "metadata": {},
   "outputs": [],
   "source": [
    "# percent_missing = survey.isnull().sum()*100/len(survey)\n",
    "# missing_value_df = pd.DataFrame({'columnname':survey.columns, 'percent_missing':percent_missing})\n",
    "# missing_value_df"
   ]
  },
  {
   "cell_type": "code",
   "execution_count": 5,
   "metadata": {},
   "outputs": [],
   "source": [
    "# percent_missing = survey.isnull().sum()*100/len(survey)\n",
    "# missing_value_df = pd.DataFrame({'columnname':survey.columns, 'percent_missing':percent_missing})\n",
    "# seventy_five_data = missing_value_df[missing_value_df.percent_missing<25]\n",
    "\n",
    "# seventy_five_data\n",
    "\n",
    "# survey_minimal_missing= survey[list(seventy_five_data.columnname)]\n",
    "\n",
    "# survey_minimal_missing.reset_index(inplace=True)\n",
    "# X = survey_minimal_missing.drop(columns = 'JobSatisfaction',axis =1)\n",
    "# y = survey_minimal_missing['JobSatisfaction']\n",
    "# # X"
   ]
  },
  {
   "cell_type": "code",
   "execution_count": 6,
   "metadata": {},
   "outputs": [],
   "source": [
    "# X, X_test, y, y_test = train_test_split(X, y, test_size=.2, random_state=100)\n",
    "# X_train, X_val, y_train, y_val = train_test_split(X, y, test_size=.2, random_state=100)"
   ]
  },
  {
   "cell_type": "code",
   "execution_count": 7,
   "metadata": {},
   "outputs": [],
   "source": [
    "# X_cat_train = X_train.select_dtypes(include='object')\n",
    "# X_cat_train = pd.DataFrame(X_cat_train,dtype ='str')\n",
    "# imp_freq_train = SimpleImputer(missing_values=np.nan, strategy='most_frequent')\n",
    "# X_cat_imputed_train = imp_freq_train.fit_transform(X_cat_train)\n",
    "# X_cat_imputed_train = pd.DataFrame(data = X_cat_imputed_train)\n",
    "\n",
    "# OE = OneHotEncoder(handle_unknown='ignore')\n",
    "# OE.fit(X_cat_imputed_train)\n",
    "# X_cat_imputed_train = OE.transform(X_cat_imputed_train)\n",
    "# names= OE.get_feature_names()[:]\n",
    "# names = names.tolist()\n",
    "# X_cat_imputed_train = pd.DataFrame(data = X_cat_imputed_train.toarray(), columns = names)\n",
    "\n",
    "\n",
    "\n",
    "\n",
    "# X_num_train = X_train.select_dtypes(include='float64')\n",
    "# imp_freq_train = SimpleImputer(missing_values=np.nan, strategy='median')\n",
    "# X_num_imputed_train = imp_freq_train.fit_transform(X_num_train)\n",
    "# X_num_imputed_train = pd.DataFrame(data= X_num_imputed_train, columns = X_num_train.columns)\n",
    "\n",
    "# scale = StandardScaler()\n",
    "# scale.fit(X_num_imputed_train)\n",
    "# X_num_imputed_train = scale.transform(X_num_imputed_train)\n",
    "# X_num_imputed_train = pd.DataFrame(data= X_num_imputed_train, columns = X_num_train.columns)\n",
    "\n",
    "\n",
    "# X_train_processed = pd.concat([X_cat_imputed_train,X_num_imputed_train],axis =1)\n",
    "\n",
    "# y_train =pd.Series(y_train, dtype ='int')"
   ]
  },
  {
   "cell_type": "code",
   "execution_count": 8,
   "metadata": {},
   "outputs": [],
   "source": [
    "# X_cat_test = X_test.select_dtypes(include='object')\n",
    "# X_cat_test = pd.DataFrame(X_cat_test,dtype ='str')\n",
    "# imp_freq_test = SimpleImputer(missing_values=np.nan, strategy='most_frequent')\n",
    "# X_cat_imputed_test = imp_freq_test.fit_transform(X_cat_test)\n",
    "# X_cat_imputed_test = pd.DataFrame(data = X_cat_imputed_test)\n",
    "\n",
    "# X_cat_imputed_test = OE.transform(X_cat_imputed_test)\n",
    "# names= OE.get_feature_names()[:]\n",
    "# names = names.tolist()\n",
    "# X_cat_imputed_test = pd.DataFrame(data = X_cat_imputed_test.toarray(), columns = names)\n",
    "\n",
    "\n",
    "\n",
    "\n",
    "# X_num_test = X_test.select_dtypes(include='float64')\n",
    "# imp_freq_test = SimpleImputer(missing_values=np.nan, strategy='median')\n",
    "# X_num_imputed_test = imp_freq_test.fit_transform(X_num_test)\n",
    "# X_num_imputed_test = pd.DataFrame(data= X_num_imputed_test, columns = X_num_test.columns)\n",
    "\n",
    "# scale = StandardScaler()\n",
    "# scale.fit(X_num_imputed_test)\n",
    "# X_num_imputed_test = scale.transform(X_num_imputed_test)\n",
    "# X_num_imputed_test = pd.DataFrame(data= X_num_imputed_test, columns = X_num_test.columns)\n",
    "\n",
    "\n",
    "# X_test_processed = pd.concat([X_cat_imputed_test,X_num_imputed_test],axis =1)\n",
    "\n",
    "# y_test =pd.Series(y_test, dtype ='int')"
   ]
  },
  {
   "cell_type": "code",
   "execution_count": 9,
   "metadata": {},
   "outputs": [],
   "source": [
    "# X_cat_val = X_val.select_dtypes(include='object')\n",
    "# X_cat_val = pd.DataFrame(X_cat_val,dtype ='str')\n",
    "# imp_freq_val = SimpleImputer(missing_values=np.nan, strategy='most_frequent')\n",
    "# X_cat_imputed_val = imp_freq_val.fit_transform(X_cat_val)\n",
    "# X_cat_imputed_val = pd.DataFrame(data = X_cat_imputed_val)\n",
    "\n",
    "\n",
    "# X_cat_imputed_val = OE.transform(X_cat_imputed_val)\n",
    "# names= OE.get_feature_names()[:]\n",
    "# names = names.tolist()\n",
    "# X_cat_imputed_val = pd.DataFrame(data = X_cat_imputed_val.toarray(), columns = names)\n",
    "\n",
    "\n",
    "\n",
    "\n",
    "# X_num_val = X_val.select_dtypes(include='float64')\n",
    "# imp_freq_val = SimpleImputer(missing_values=np.nan, strategy='median')\n",
    "# X_num_imputed_val = imp_freq_val.fit_transform(X_num_val)\n",
    "# X_num_imputed_val = pd.DataFrame(data= X_num_imputed_val, columns = X_num_val.columns)\n",
    "\n",
    "# scale = StandardScaler()\n",
    "# scale.fit(X_num_imputed_val)\n",
    "# X_num_imputed_val = scale.transform(X_num_imputed_val)\n",
    "# X_num_imputed_val = pd.DataFrame(data= X_num_imputed_val, columns = X_num_val.columns)\n",
    "\n",
    "\n",
    "# X_val_processed = pd.concat([X_cat_imputed_val,X_num_imputed_val],axis =1)\n",
    "\n",
    "# y_val =pd.Series(y_val, dtype ='int')"
   ]
  },
  {
   "cell_type": "code",
   "execution_count": 10,
   "metadata": {
    "scrolled": true
   },
   "outputs": [
    {
     "data": {
      "text/html": [
       "<div>\n",
       "<style scoped>\n",
       "    .dataframe tbody tr th:only-of-type {\n",
       "        vertical-align: middle;\n",
       "    }\n",
       "\n",
       "    .dataframe tbody tr th {\n",
       "        vertical-align: top;\n",
       "    }\n",
       "\n",
       "    .dataframe thead th {\n",
       "        text-align: right;\n",
       "    }\n",
       "</style>\n",
       "<table border=\"1\" class=\"dataframe\">\n",
       "  <thead>\n",
       "    <tr style=\"text-align: right;\">\n",
       "      <th></th>\n",
       "      <th>x0_A different identity</th>\n",
       "      <th>x0_Female</th>\n",
       "      <th>x0_Male</th>\n",
       "      <th>x0_Non-binary, genderqueer, or gender non-conforming</th>\n",
       "      <th>x0_nan</th>\n",
       "      <th>x1_Argentina</th>\n",
       "      <th>x1_Australia</th>\n",
       "      <th>x1_Belarus</th>\n",
       "      <th>x1_Belgium</th>\n",
       "      <th>x1_Brazil</th>\n",
       "      <th>...</th>\n",
       "      <th>LearningCategoryUniversity</th>\n",
       "      <th>LearningCategoryKaggle</th>\n",
       "      <th>LearningCategoryOther</th>\n",
       "      <th>TimeGatheringData</th>\n",
       "      <th>TimeModelBuilding</th>\n",
       "      <th>TimeProduction</th>\n",
       "      <th>TimeVisualizing</th>\n",
       "      <th>TimeFindingInsights</th>\n",
       "      <th>TimeOtherSelect</th>\n",
       "      <th>CompensationAmount</th>\n",
       "    </tr>\n",
       "  </thead>\n",
       "  <tbody>\n",
       "    <tr>\n",
       "      <th>0</th>\n",
       "      <td>0.0</td>\n",
       "      <td>0.0</td>\n",
       "      <td>1.0</td>\n",
       "      <td>0.0</td>\n",
       "      <td>0.0</td>\n",
       "      <td>0.0</td>\n",
       "      <td>0.0</td>\n",
       "      <td>0.0</td>\n",
       "      <td>0.0</td>\n",
       "      <td>1.0</td>\n",
       "      <td>...</td>\n",
       "      <td>-0.733576</td>\n",
       "      <td>-0.523226</td>\n",
       "      <td>-0.187117</td>\n",
       "      <td>-0.349965</td>\n",
       "      <td>-0.678623</td>\n",
       "      <td>-0.446389</td>\n",
       "      <td>0.091988</td>\n",
       "      <td>2.365496</td>\n",
       "      <td>-0.206226</td>\n",
       "      <td>-0.100257</td>\n",
       "    </tr>\n",
       "    <tr>\n",
       "      <th>1</th>\n",
       "      <td>0.0</td>\n",
       "      <td>0.0</td>\n",
       "      <td>1.0</td>\n",
       "      <td>0.0</td>\n",
       "      <td>0.0</td>\n",
       "      <td>0.0</td>\n",
       "      <td>0.0</td>\n",
       "      <td>0.0</td>\n",
       "      <td>0.0</td>\n",
       "      <td>0.0</td>\n",
       "      <td>...</td>\n",
       "      <td>1.735686</td>\n",
       "      <td>-0.523226</td>\n",
       "      <td>-0.187117</td>\n",
       "      <td>-0.349965</td>\n",
       "      <td>1.173506</td>\n",
       "      <td>-0.041716</td>\n",
       "      <td>-0.340635</td>\n",
       "      <td>-0.254934</td>\n",
       "      <td>-0.206226</td>\n",
       "      <td>-0.102033</td>\n",
       "    </tr>\n",
       "    <tr>\n",
       "      <th>2</th>\n",
       "      <td>0.0</td>\n",
       "      <td>0.0</td>\n",
       "      <td>1.0</td>\n",
       "      <td>0.0</td>\n",
       "      <td>0.0</td>\n",
       "      <td>0.0</td>\n",
       "      <td>0.0</td>\n",
       "      <td>0.0</td>\n",
       "      <td>0.0</td>\n",
       "      <td>0.0</td>\n",
       "      <td>...</td>\n",
       "      <td>-0.509098</td>\n",
       "      <td>-0.523226</td>\n",
       "      <td>-0.187117</td>\n",
       "      <td>-0.826088</td>\n",
       "      <td>-0.061247</td>\n",
       "      <td>2.386317</td>\n",
       "      <td>-0.340635</td>\n",
       "      <td>-0.254934</td>\n",
       "      <td>-0.206226</td>\n",
       "      <td>-0.103414</td>\n",
       "    </tr>\n",
       "    <tr>\n",
       "      <th>3</th>\n",
       "      <td>0.0</td>\n",
       "      <td>1.0</td>\n",
       "      <td>0.0</td>\n",
       "      <td>0.0</td>\n",
       "      <td>0.0</td>\n",
       "      <td>0.0</td>\n",
       "      <td>0.0</td>\n",
       "      <td>0.0</td>\n",
       "      <td>0.0</td>\n",
       "      <td>0.0</td>\n",
       "      <td>...</td>\n",
       "      <td>0.164337</td>\n",
       "      <td>0.520375</td>\n",
       "      <td>-0.187117</td>\n",
       "      <td>0.126157</td>\n",
       "      <td>-0.678623</td>\n",
       "      <td>-0.041716</td>\n",
       "      <td>0.524611</td>\n",
       "      <td>0.618542</td>\n",
       "      <td>-0.206226</td>\n",
       "      <td>-0.108148</td>\n",
       "    </tr>\n",
       "    <tr>\n",
       "      <th>4</th>\n",
       "      <td>1.0</td>\n",
       "      <td>0.0</td>\n",
       "      <td>0.0</td>\n",
       "      <td>0.0</td>\n",
       "      <td>0.0</td>\n",
       "      <td>0.0</td>\n",
       "      <td>0.0</td>\n",
       "      <td>0.0</td>\n",
       "      <td>0.0</td>\n",
       "      <td>0.0</td>\n",
       "      <td>...</td>\n",
       "      <td>1.511207</td>\n",
       "      <td>-0.523226</td>\n",
       "      <td>-0.187117</td>\n",
       "      <td>1.078401</td>\n",
       "      <td>-0.061247</td>\n",
       "      <td>-0.041716</td>\n",
       "      <td>-0.773257</td>\n",
       "      <td>-0.691673</td>\n",
       "      <td>-0.206226</td>\n",
       "      <td>-0.102033</td>\n",
       "    </tr>\n",
       "  </tbody>\n",
       "</table>\n",
       "<p>5 rows × 16767 columns</p>\n",
       "</div>"
      ],
      "text/plain": [
       "   x0_A different identity  x0_Female  x0_Male  \\\n",
       "0                      0.0        0.0      1.0   \n",
       "1                      0.0        0.0      1.0   \n",
       "2                      0.0        0.0      1.0   \n",
       "3                      0.0        1.0      0.0   \n",
       "4                      1.0        0.0      0.0   \n",
       "\n",
       "   x0_Non-binary, genderqueer, or gender non-conforming  x0_nan  x1_Argentina  \\\n",
       "0                                                0.0        0.0           0.0   \n",
       "1                                                0.0        0.0           0.0   \n",
       "2                                                0.0        0.0           0.0   \n",
       "3                                                0.0        0.0           0.0   \n",
       "4                                                0.0        0.0           0.0   \n",
       "\n",
       "   x1_Australia  x1_Belarus  x1_Belgium  x1_Brazil  ...  \\\n",
       "0           0.0         0.0         0.0        1.0  ...   \n",
       "1           0.0         0.0         0.0        0.0  ...   \n",
       "2           0.0         0.0         0.0        0.0  ...   \n",
       "3           0.0         0.0         0.0        0.0  ...   \n",
       "4           0.0         0.0         0.0        0.0  ...   \n",
       "\n",
       "   LearningCategoryUniversity  LearningCategoryKaggle  LearningCategoryOther  \\\n",
       "0                   -0.733576               -0.523226              -0.187117   \n",
       "1                    1.735686               -0.523226              -0.187117   \n",
       "2                   -0.509098               -0.523226              -0.187117   \n",
       "3                    0.164337                0.520375              -0.187117   \n",
       "4                    1.511207               -0.523226              -0.187117   \n",
       "\n",
       "   TimeGatheringData  TimeModelBuilding  TimeProduction  TimeVisualizing  \\\n",
       "0          -0.349965          -0.678623       -0.446389         0.091988   \n",
       "1          -0.349965           1.173506       -0.041716        -0.340635   \n",
       "2          -0.826088          -0.061247        2.386317        -0.340635   \n",
       "3           0.126157          -0.678623       -0.041716         0.524611   \n",
       "4           1.078401          -0.061247       -0.041716        -0.773257   \n",
       "\n",
       "   TimeFindingInsights  TimeOtherSelect  CompensationAmount  \n",
       "0             2.365496        -0.206226           -0.100257  \n",
       "1            -0.254934        -0.206226           -0.102033  \n",
       "2            -0.254934        -0.206226           -0.103414  \n",
       "3             0.618542        -0.206226           -0.108148  \n",
       "4            -0.691673        -0.206226           -0.102033  \n",
       "\n",
       "[5 rows x 16767 columns]"
      ]
     },
     "execution_count": 10,
     "metadata": {},
     "output_type": "execute_result"
    }
   ],
   "source": [
    "# X_val_processed.head()"
   ]
  },
  {
   "cell_type": "code",
   "execution_count": 11,
   "metadata": {},
   "outputs": [],
   "source": [
    "# X_imputed.sample(20)"
   ]
  },
  {
   "cell_type": "code",
   "execution_count": null,
   "metadata": {},
   "outputs": [],
   "source": []
  },
  {
   "cell_type": "code",
   "execution_count": 12,
   "metadata": {},
   "outputs": [],
   "source": [
    "# from imblearn.over_sampling import RandomOverSampler\n",
    "# from imblearn.over_sampling import SMOTE, ADASYN\n",
    "\n",
    "\n",
    "# ros = RandomOverSampler()\n",
    "# X_train_os, y_train_os = ros.fit_sample(X_train_processed, y_train)\n",
    "\n",
    "\n",
    "# smot = SMOTE()\n",
    "# X_train_smote, y_train_smote = smot.fit_sample(X_train_processed,y_train)\n",
    "\n",
    "# adasyn = ADASYN()\n",
    "# X_train_ada, y_train_ada = adasyn.fit_sample(X_train_processed,y_train)\n",
    "\n"
   ]
  },
  {
   "cell_type": "code",
   "execution_count": 29,
   "metadata": {},
   "outputs": [],
   "source": [
    "# pickle.dump(X_train_ada,open('X_train_ada.p', 'wb'))\n",
    "# pickle.dump(X_train_smote,open('X_train_smote.p', 'wb'))\n",
    "# pickle.dump(X_train_os,open('X_train_os.p', 'wb'))\n",
    "\n",
    "# pickle.dump(y_train_ada,open('y_train_ada.p', 'wb'))\n",
    "# pickle.dump(y_train_smote,open('y_train_smote.p', 'wb'))\n",
    "# pickle.dump(y_train_os,open('y_train_os.p', 'wb'))\n",
    "\n",
    "# pickle.dump(X_val_processed,open('X_val_processed.p', 'wb'))\n",
    "# pickle.dump(X_test_processed,open('X_test_processed.p', 'wb'))\n",
    "# pickle.dump(y_val,open('y_val.p', 'wb'))\n",
    "# pickle.dump(y_test,open('y_test.p', 'wb'))\n"
   ]
  },
  {
   "cell_type": "markdown",
   "metadata": {},
   "source": [
    "## Pickle Load"
   ]
  },
  {
   "cell_type": "code",
   "execution_count": 76,
   "metadata": {},
   "outputs": [],
   "source": [
    "X_train_os = pickle.load(open('X_train_os.p', 'rb'))\n",
    "y_train_os = pickle.load(open('y_train_os.p', 'rb'))\n",
    "\n",
    "X_val= pickle.load(open('X_val_processed.p','rb'))\n",
    "y_val= pickle.load(open('y_val.p','rb'))\n",
    "\n",
    "X_test= pickle.load(open('X_test_processed.p','rb'))\n",
    "y_test= pickle.load(open('y_test.p','rb'))"
   ]
  },
  {
   "cell_type": "markdown",
   "metadata": {},
   "source": [
    "# Logistic Regression"
   ]
  },
  {
   "cell_type": "code",
   "execution_count": 77,
   "metadata": {},
   "outputs": [],
   "source": [
    "# from sklearn.linear_model import LogisticRegressionCV\n",
    "# logRegModel_smote = LogisticRegressionCV(cv =5, Cs=10,scoring = 'precision')\n",
    "# logRegModel_smote.fit(X_train_smote,y_train_smote)"
   ]
  },
  {
   "cell_type": "code",
   "execution_count": 78,
   "metadata": {},
   "outputs": [],
   "source": [
    "# from sklearn.linear_model import LogisticRegressionCV\n",
    "# logRegModel_os= LogisticRegressionCV(cv =5, Cs=10,scoring = 'precision')\n",
    "# logRegModel_os.fit(X_train_os,y_train_os)"
   ]
  },
  {
   "cell_type": "code",
   "execution_count": 79,
   "metadata": {},
   "outputs": [],
   "source": [
    "# from sklearn.linear_model import LogisticRegressionCV\n",
    "# logRegModel_ada = LogisticRegressionCV(cv =5, Cs=10,scoring = 'precision')\n",
    "# logRegModel_ada.fit(X_train_ada,y_train_ada)"
   ]
  },
  {
   "cell_type": "code",
   "execution_count": 19,
   "metadata": {},
   "outputs": [
    {
     "name": "stdout",
     "output_type": "stream",
     "text": [
      "Fitting 5 folds for each of 36 candidates, totalling 180 fits\n"
     ]
    },
    {
     "name": "stderr",
     "output_type": "stream",
     "text": [
      "[Parallel(n_jobs=-1)]: Using backend LokyBackend with 12 concurrent workers.\n",
      "[Parallel(n_jobs=-1)]: Done   1 tasks      | elapsed:   12.6s\n",
      "[Parallel(n_jobs=-1)]: Done   8 tasks      | elapsed:   15.3s\n",
      "[Parallel(n_jobs=-1)]: Done  17 tasks      | elapsed:   24.5s\n",
      "[Parallel(n_jobs=-1)]: Done  26 tasks      | elapsed:   32.3s\n",
      "[Parallel(n_jobs=-1)]: Done  37 tasks      | elapsed:   39.6s\n",
      "[Parallel(n_jobs=-1)]: Done  48 tasks      | elapsed:   48.7s\n",
      "[Parallel(n_jobs=-1)]: Done  61 tasks      | elapsed:   59.6s\n",
      "[Parallel(n_jobs=-1)]: Done  74 tasks      | elapsed:  1.3min\n",
      "[Parallel(n_jobs=-1)]: Done  89 tasks      | elapsed:  1.6min\n",
      "[Parallel(n_jobs=-1)]: Done 104 tasks      | elapsed:  1.9min\n",
      "[Parallel(n_jobs=-1)]: Done 121 tasks      | elapsed:  2.3min\n",
      "[Parallel(n_jobs=-1)]: Done 138 tasks      | elapsed:  2.7min\n",
      "[Parallel(n_jobs=-1)]: Done 157 tasks      | elapsed:  3.1min\n",
      "[Parallel(n_jobs=-1)]: Done 176 out of 180 | elapsed:  3.6min remaining:    4.9s\n",
      "[Parallel(n_jobs=-1)]: Done 180 out of 180 | elapsed:  3.6min finished\n"
     ]
    },
    {
     "data": {
      "text/plain": [
       "0.83767402777258604"
      ]
     },
     "execution_count": 19,
     "metadata": {},
     "output_type": "execute_result"
    }
   ],
   "source": [
    "# from sklearn.ensemble import RandomForestClassifier\n",
    "# import sklearn.metrics as metrics\n",
    "\n",
    "# # Run CV with 5 folds (Random Forest)\n",
    "\n",
    "# # Create the parameter grid based on the results of random search \n",
    "# param_grid = {\n",
    "#     'bootstrap': [True],\n",
    "#     'max_depth': [6, 20, 40],\n",
    "#     'max_features': ['sqrt'],\n",
    "#     'min_samples_leaf': [1, 2],\n",
    "#     'min_samples_split': [2, 3],\n",
    "#     'n_estimators': [10,30,50]\n",
    "# }\n",
    "\n",
    "# rf = RandomForestClassifier()\n",
    "# rf_grid_smote = GridSearchCV(estimator=rf, param_grid=param_grid, cv=5, verbose=10, n_jobs=-1, scoring ='roc_auc')\n",
    "# rf_grid_smote.fit(X_train_smote, y_train_smote)\n",
    "# rf_grid_smote.best_score_"
   ]
  },
  {
   "cell_type": "code",
   "execution_count": 20,
   "metadata": {},
   "outputs": [
    {
     "name": "stdout",
     "output_type": "stream",
     "text": [
      "Fitting 5 folds for each of 36 candidates, totalling 180 fits\n"
     ]
    },
    {
     "name": "stderr",
     "output_type": "stream",
     "text": [
      "[Parallel(n_jobs=-1)]: Using backend LokyBackend with 12 concurrent workers.\n",
      "[Parallel(n_jobs=-1)]: Done   1 tasks      | elapsed:   10.4s\n",
      "[Parallel(n_jobs=-1)]: Done   8 tasks      | elapsed:   13.4s\n",
      "[Parallel(n_jobs=-1)]: Done  17 tasks      | elapsed:   22.3s\n",
      "[Parallel(n_jobs=-1)]: Done  26 tasks      | elapsed:   31.6s\n",
      "[Parallel(n_jobs=-1)]: Done  37 tasks      | elapsed:   39.1s\n",
      "[Parallel(n_jobs=-1)]: Done  48 tasks      | elapsed:   47.5s\n",
      "[Parallel(n_jobs=-1)]: Done  61 tasks      | elapsed:   58.1s\n",
      "[Parallel(n_jobs=-1)]: Done  74 tasks      | elapsed:  1.3min\n",
      "[Parallel(n_jobs=-1)]: Done  89 tasks      | elapsed:  1.6min\n",
      "[Parallel(n_jobs=-1)]: Done 104 tasks      | elapsed:  1.9min\n",
      "[Parallel(n_jobs=-1)]: Done 121 tasks      | elapsed:  2.2min\n",
      "[Parallel(n_jobs=-1)]: Done 138 tasks      | elapsed:  2.6min\n",
      "[Parallel(n_jobs=-1)]: Done 157 tasks      | elapsed:  3.1min\n",
      "[Parallel(n_jobs=-1)]: Done 176 out of 180 | elapsed:  3.5min remaining:    4.8s\n",
      "[Parallel(n_jobs=-1)]: Done 180 out of 180 | elapsed:  3.6min finished\n"
     ]
    },
    {
     "data": {
      "text/plain": [
       "GridSearchCV(cv=5, error_score='raise-deprecating',\n",
       "       estimator=RandomForestClassifier(bootstrap=True, class_weight=None, criterion='gini',\n",
       "            max_depth=None, max_features='auto', max_leaf_nodes=None,\n",
       "            min_impurity_decrease=0.0, min_impurity_split=None,\n",
       "            min_samples_leaf=1, min_samples_split=2,\n",
       "            min_weight_fraction_leaf=0.0, n_estimators='warn', n_jobs=None,\n",
       "            oob_score=False, random_state=None, verbose=0,\n",
       "            warm_start=False),\n",
       "       fit_params=None, iid='warn', n_jobs=-1,\n",
       "       param_grid={'bootstrap': [True], 'max_depth': [6, 20, 40], 'max_features': ['sqrt'], 'min_samples_leaf': [1, 2], 'min_samples_split': [2, 3], 'n_estimators': [10, 30, 50]},\n",
       "       pre_dispatch='2*n_jobs', refit=True, return_train_score='warn',\n",
       "       scoring='roc_auc', verbose=10)"
      ]
     },
     "execution_count": 20,
     "metadata": {},
     "output_type": "execute_result"
    }
   ],
   "source": [
    "# from sklearn.ensemble import RandomForestClassifier\n",
    "# import sklearn.metrics as metrics\n",
    "\n",
    "# # Run CV with 5 folds (Random Forest)\n",
    "\n",
    "# # Create the parameter grid based on the results of random search \n",
    "# param_grid = {\n",
    "#     'bootstrap': [True],\n",
    "#     'max_depth': [6, 20, 40],\n",
    "#     'max_features': ['sqrt'],\n",
    "#     'min_samples_leaf': [1, 2],\n",
    "#     'min_samples_split': [2, 3],\n",
    "#     'n_estimators': [10,30,50]\n",
    "# }\n",
    "# rf = RandomForestClassifier()\n",
    "# rf_grid_ada= GridSearchCV(estimator=rf, param_grid=param_grid, cv=5, verbose=10, n_jobs=-1, scoring ='roc_auc')\n",
    "# rf_grid_ada.fit(X_train_ada, y_train_ada)"
   ]
  },
  {
   "cell_type": "code",
   "execution_count": 63,
   "metadata": {},
   "outputs": [
    {
     "name": "stdout",
     "output_type": "stream",
     "text": [
      "Fitting 5 folds for each of 9 candidates, totalling 45 fits\n"
     ]
    },
    {
     "name": "stderr",
     "output_type": "stream",
     "text": [
      "[Parallel(n_jobs=-1)]: Using backend LokyBackend with 12 concurrent workers.\n",
      "[Parallel(n_jobs=-1)]: Done   1 tasks      | elapsed:  4.1min\n",
      "[Parallel(n_jobs=-1)]: Done   8 tasks      | elapsed:  6.7min\n",
      "[Parallel(n_jobs=-1)]: Done  17 tasks      | elapsed: 10.8min\n",
      "[Parallel(n_jobs=-1)]: Done  27 out of  45 | elapsed: 15.8min remaining: 10.6min\n",
      "[Parallel(n_jobs=-1)]: Done  32 out of  45 | elapsed: 17.2min remaining:  7.0min\n",
      "[Parallel(n_jobs=-1)]: Done  37 out of  45 | elapsed: 18.6min remaining:  4.0min\n",
      "[Parallel(n_jobs=-1)]: Done  42 out of  45 | elapsed: 19.7min remaining:  1.4min\n",
      "[Parallel(n_jobs=-1)]: Done  45 out of  45 | elapsed: 20.0min finished\n"
     ]
    },
    {
     "data": {
      "text/plain": [
       "GridSearchCV(cv=5, error_score='raise-deprecating',\n",
       "       estimator=RandomForestClassifier(bootstrap=True, class_weight=None, criterion='gini',\n",
       "            max_depth=None, max_features='auto', max_leaf_nodes=None,\n",
       "            min_impurity_decrease=0.0, min_impurity_split=None,\n",
       "            min_samples_leaf=1, min_samples_split=2,\n",
       "            min_weight_fraction_leaf=0.0, n_estimators='warn', n_jobs=None,\n",
       "            oob_score=False, random_state=None, verbose=0,\n",
       "            warm_start=False),\n",
       "       fit_params=None, iid='warn', n_jobs=-1,\n",
       "       param_grid={'bootstrap': [True], 'max_depth': [300, 400, 500], 'max_features': ['sqrt'], 'min_samples_leaf': [1], 'min_samples_split': [2], 'n_estimators': [300, 500, 600]},\n",
       "       pre_dispatch='2*n_jobs', refit=True, return_train_score='warn',\n",
       "       scoring='roc_auc', verbose=10)"
      ]
     },
     "execution_count": 63,
     "metadata": {},
     "output_type": "execute_result"
    }
   ],
   "source": [
    "# from sklearn.ensemble import RandomForestClassifier\n",
    "# import sklearn.metrics as metrics\n",
    "\n",
    "# # Run CV with 5 folds (Random Forest)\n",
    "\n",
    "# # Create the parameter grid based on the results of random search \n",
    "# param_grid = {\n",
    "#     'bootstrap': [True],\n",
    "#     'max_depth': [300,400,500],\n",
    "#     'max_features': ['sqrt'],\n",
    "#     'min_samples_leaf': [1],\n",
    "#     'min_samples_split': [2],\n",
    "#     'n_estimators': [300,500,600]\n",
    "# }\n",
    "\n",
    "# rf = RandomForestClassifier()\n",
    "# rf_grid_os= GridSearchCV(estimator=rf, param_grid=param_grid, cv=5, verbose=10, n_jobs=-1, scoring ='roc_auc')\n",
    "# rf_grid_os.fit(X_train_os, y_train_os)"
   ]
  },
  {
   "cell_type": "code",
   "execution_count": 64,
   "metadata": {},
   "outputs": [
    {
     "data": {
      "text/plain": [
       "0.90522225959889735"
      ]
     },
     "execution_count": 64,
     "metadata": {},
     "output_type": "execute_result"
    }
   ],
   "source": [
    "# rf_grid_os.best_score_"
   ]
  },
  {
   "cell_type": "code",
   "execution_count": 66,
   "metadata": {},
   "outputs": [
    {
     "data": {
      "text/plain": [
       "{'bootstrap': True,\n",
       " 'max_depth': 300,\n",
       " 'max_features': 'sqrt',\n",
       " 'min_samples_leaf': 1,\n",
       " 'min_samples_split': 2,\n",
       " 'n_estimators': 500}"
      ]
     },
     "execution_count": 66,
     "metadata": {},
     "output_type": "execute_result"
    }
   ],
   "source": [
    "# rf_grid_os.best_params_"
   ]
  },
  {
   "cell_type": "code",
   "execution_count": null,
   "metadata": {},
   "outputs": [],
   "source": []
  },
  {
   "cell_type": "code",
   "execution_count": null,
   "metadata": {},
   "outputs": [],
   "source": []
  },
  {
   "cell_type": "code",
   "execution_count": null,
   "metadata": {},
   "outputs": [],
   "source": []
  },
  {
   "cell_type": "code",
   "execution_count": null,
   "metadata": {},
   "outputs": [],
   "source": []
  },
  {
   "cell_type": "code",
   "execution_count": null,
   "metadata": {},
   "outputs": [],
   "source": []
  },
  {
   "cell_type": "code",
   "execution_count": null,
   "metadata": {},
   "outputs": [],
   "source": []
  },
  {
   "cell_type": "code",
   "execution_count": null,
   "metadata": {},
   "outputs": [],
   "source": []
  },
  {
   "cell_type": "code",
   "execution_count": null,
   "metadata": {},
   "outputs": [],
   "source": [
    "# logRegModelCoef['abs_coef'] = logRegModelCoef['coef'].abs()\n",
    "logRegModelCoef.sort_values(by = 'abs_coef', ascending = False)"
   ]
  },
  {
   "cell_type": "code",
   "execution_count": null,
   "metadata": {},
   "outputs": [],
   "source": []
  },
  {
   "cell_type": "code",
   "execution_count": null,
   "metadata": {},
   "outputs": [],
   "source": []
  },
  {
   "cell_type": "code",
   "execution_count": 31,
   "metadata": {},
   "outputs": [
    {
     "name": "stdout",
     "output_type": "stream",
     "text": [
      "Fitting 5 folds for each of 8 candidates, totalling 40 fits\n"
     ]
    },
    {
     "name": "stderr",
     "output_type": "stream",
     "text": [
      "[Parallel(n_jobs=-1)]: Using backend LokyBackend with 12 concurrent workers.\n",
      "[Parallel(n_jobs=-1)]: Done  40 out of  40 | elapsed:  6.4min finished\n"
     ]
    },
    {
     "data": {
      "text/plain": [
       "0.81675910367865501"
      ]
     },
     "execution_count": 31,
     "metadata": {},
     "output_type": "execute_result"
    }
   ],
   "source": [
    "# parameter_grid={\n",
    "#     \"loss\":[\"deviance\"],\n",
    "#     \"learning_rate\": [0.6],\n",
    "#     'min_samples_leaf': [1, 2],\n",
    "#     'min_samples_split': [2, 3],\n",
    "#     \"max_depth\":[40,50],\n",
    "#     \"max_features\":[\"sqrt\"],\n",
    "#     \"criterion\": [\"friedman_mse\"],\n",
    "#     \"subsample\":[ 1.0],\n",
    "#     \"n_estimators\":[125]\n",
    "#     }\n",
    "# gb_grid_smote = GridSearchCV(GradientBoostingClassifier(), parameter_grid, cv=5, n_jobs=-1,scoring = 'roc_auc', verbose= True)\n",
    "\n",
    "# gb_grid_smote.fit(X_train_smote, y_train_smote)\n",
    "\n",
    "# gb_grid_smote.best_score_\n"
   ]
  },
  {
   "cell_type": "code",
   "execution_count": 33,
   "metadata": {},
   "outputs": [
    {
     "name": "stdout",
     "output_type": "stream",
     "text": [
      "Fitting 5 folds for each of 8 candidates, totalling 40 fits\n"
     ]
    },
    {
     "name": "stderr",
     "output_type": "stream",
     "text": [
      "[Parallel(n_jobs=-1)]: Using backend LokyBackend with 12 concurrent workers.\n",
      "[Parallel(n_jobs=-1)]: Done  40 out of  40 | elapsed:  6.1min finished\n"
     ]
    },
    {
     "data": {
      "text/plain": [
       "0.81440997299991513"
      ]
     },
     "execution_count": 33,
     "metadata": {},
     "output_type": "execute_result"
    }
   ],
   "source": [
    "# parameter_grid={\n",
    "#     \"loss\":[\"deviance\"],\n",
    "#     \"learning_rate\": [0.6],\n",
    "#     'min_samples_leaf': [1, 2],\n",
    "#     'min_samples_split': [2, 3],\n",
    "#     \"max_depth\":[40,50],\n",
    "#     \"max_features\":[\"sqrt\"],\n",
    "#     \"criterion\": [\"friedman_mse\"],\n",
    "#     \"subsample\":[ 1.0],\n",
    "#     \"n_estimators\":[125]\n",
    "#     }\n",
    "# gb_grid_ada = GridSearchCV(GradientBoostingClassifier(), parameter_grid, cv=5, n_jobs=-1,scoring = 'roc_auc', verbose= True)\n",
    "\n",
    "# gb_grid_ada.fit(X_train_ada, y_train_ada)\n",
    "\n",
    "# gb_grid_ada.best_score_"
   ]
  },
  {
   "cell_type": "code",
   "execution_count": 34,
   "metadata": {},
   "outputs": [
    {
     "name": "stdout",
     "output_type": "stream",
     "text": [
      "Fitting 5 folds for each of 8 candidates, totalling 40 fits\n"
     ]
    },
    {
     "name": "stderr",
     "output_type": "stream",
     "text": [
      "[Parallel(n_jobs=-1)]: Using backend LokyBackend with 12 concurrent workers.\n",
      "[Parallel(n_jobs=-1)]: Done  40 out of  40 | elapsed:  9.0min finished\n"
     ]
    },
    {
     "data": {
      "text/plain": [
       "0.8953588569208828"
      ]
     },
     "execution_count": 34,
     "metadata": {},
     "output_type": "execute_result"
    }
   ],
   "source": [
    "# parameter_grid={\n",
    "#     \"loss\":[\"deviance\"],\n",
    "#     \"learning_rate\": [0.6],\n",
    "#     'min_samples_leaf': [1, 2],\n",
    "#     'min_samples_split': [2, 3],\n",
    "#     \"max_depth\":[40,50],\n",
    "#     \"max_features\":[\"sqrt\"],\n",
    "#     \"criterion\": [\"friedman_mse\"],\n",
    "#     \"subsample\":[ 1.0],\n",
    "#     \"n_estimators\":[125]\n",
    "#     }\n",
    "# gb_grid_os = GridSearchCV(GradientBoostingClassifier(), parameter_grid, cv=5, n_jobs=-1,scoring = 'roc_auc', verbose= True)\n",
    "\n",
    "# gb_grid_os.fit(X_train_os, y_train_os)\n",
    "\n",
    "# gb_grid_os.best_score_"
   ]
  },
  {
   "cell_type": "code",
   "execution_count": 37,
   "metadata": {},
   "outputs": [
    {
     "data": {
      "text/plain": [
       "array([1, 1, 1, ..., 0, 1, 0])"
      ]
     },
     "execution_count": 37,
     "metadata": {},
     "output_type": "execute_result"
    }
   ],
   "source": [
    "# gb_grid_os.predict(X_test_processed)"
   ]
  },
  {
   "cell_type": "markdown",
   "metadata": {},
   "source": [
    "## Pickle the models"
   ]
  },
  {
   "cell_type": "code",
   "execution_count": 43,
   "metadata": {},
   "outputs": [
    {
     "data": {
      "text/plain": [
       "{'criterion': 'friedman_mse',\n",
       " 'learning_rate': 0.6,\n",
       " 'loss': 'deviance',\n",
       " 'max_depth': 50,\n",
       " 'max_features': 'sqrt',\n",
       " 'min_samples_leaf': 1,\n",
       " 'min_samples_split': 2,\n",
       " 'n_estimators': 125,\n",
       " 'subsample': 1.0}"
      ]
     },
     "execution_count": 43,
     "metadata": {},
     "output_type": "execute_result"
    }
   ],
   "source": [
    "# gb_grid_os.best_params_"
   ]
  },
  {
   "cell_type": "code",
   "execution_count": null,
   "metadata": {},
   "outputs": [],
   "source": []
  },
  {
   "cell_type": "code",
   "execution_count": 74,
   "metadata": {},
   "outputs": [],
   "source": [
    "# gb_os_final = GradientBoostingClassifier(criterion='friedman_mse', learning_rate= .5, loss = 'deviance', \n",
    "#                                          max_depth=200,min_samples_leaf=1, min_samples_split=2, n_estimators=700,\n",
    "#                                         subsample =1.0)\n",
    "# gb_os_final.fit(X_train_os,y_train_os)\n",
    "\n",
    "# pickle.dump(gb_os_final,open('gb_os_final.p','wb'))"
   ]
  },
  {
   "cell_type": "code",
   "execution_count": 67,
   "metadata": {},
   "outputs": [
    {
     "data": {
      "text/plain": [
       "{'bootstrap': True,\n",
       " 'max_depth': 300,\n",
       " 'max_features': 'sqrt',\n",
       " 'min_samples_leaf': 1,\n",
       " 'min_samples_split': 2,\n",
       " 'n_estimators': 500}"
      ]
     },
     "execution_count": 67,
     "metadata": {},
     "output_type": "execute_result"
    }
   ],
   "source": [
    "# rf_grid_os.best_params_"
   ]
  },
  {
   "cell_type": "code",
   "execution_count": 90,
   "metadata": {},
   "outputs": [],
   "source": [
    "rf_os_final = RandomForestClassifier(bootstrap=True, max_depth=300,max_features='sqrt',min_samples_leaf=1,\n",
    "                                    min_samples_split=2, n_estimators = 500)\n",
    "\n",
    "rf_os_final.fit(X_train_os,y_train_os)\n",
    "\n",
    "pickle.dump(rf_os_final,open('rf_os_final.p','wb'))"
   ]
  },
  {
   "cell_type": "code",
   "execution_count": 56,
   "metadata": {},
   "outputs": [],
   "source": [
    "# pickle.dump(logRegModel_os,open('logRegModel_os.p','wb'))"
   ]
  },
  {
   "cell_type": "code",
   "execution_count": 82,
   "metadata": {},
   "outputs": [],
   "source": [
    "logRegModel = pickle.load(open('logRegModel_os.p','rb'))"
   ]
  },
  {
   "cell_type": "code",
   "execution_count": 84,
   "metadata": {},
   "outputs": [],
   "source": [
    "rf = pickle.load(open('rf_os_final.p','rb'))\n",
    "gb = pickle.load(open('gb_os_final.p','rb'))"
   ]
  },
  {
   "cell_type": "code",
   "execution_count": 86,
   "metadata": {},
   "outputs": [],
   "source": [
    "X_train_os = pickle.load(open('X_train_os.p','rb'))\n",
    "y_train_os = pickle.load(open('y_train_os.p','rb'))"
   ]
  },
  {
   "cell_type": "code",
   "execution_count": 94,
   "metadata": {},
   "outputs": [],
   "source": [
    "model_names = [\"rf\",\"gb\",\"logRegModel\"]\n",
    "\n",
    "\n",
    "model_vars = [eval(n) for n in model_names]\n",
    "model_list = list(zip(model_names, model_vars))"
   ]
  },
  {
   "cell_type": "code",
   "execution_count": 95,
   "metadata": {},
   "outputs": [
    {
     "data": {
      "text/plain": [
       "VotingClassifier(estimators=[('rf', RandomForestClassifier(bootstrap=True, class_weight=None, criterion='gini',\n",
       "            max_depth=300, max_features='sqrt', max_leaf_nodes=None,\n",
       "            min_impurity_decrease=0.0, min_impurity_split=None,\n",
       "            min_samples_leaf=1, min_samples_split=2,\n",
       "            min_wei...dom_state=None, refit=True, scoring='precision',\n",
       "           solver='lbfgs', tol=0.0001, verbose=0))],\n",
       "         flatten_transform=None, n_jobs=-1, voting='soft', weights=None)"
      ]
     },
     "execution_count": 95,
     "metadata": {},
     "output_type": "execute_result"
    }
   ],
   "source": [
    "voting_classifer_soft= VotingClassifier(estimators=model_list,\n",
    "                                    voting='soft', #<-- sklearn calls this soft voting\n",
    "                                    n_jobs=-1)\n",
    "voting_classifer_soft.fit(X_train_os, y_train_os)\n"
   ]
  },
  {
   "cell_type": "code",
   "execution_count": 97,
   "metadata": {},
   "outputs": [],
   "source": [
    "pickle.dump(voting_classifer_soft, open('voting_classifer_soft.p','wb'))"
   ]
  },
  {
   "cell_type": "code",
   "execution_count": 98,
   "metadata": {},
   "outputs": [
    {
     "data": {
      "text/plain": [
       "VotingClassifier(estimators=[('rf', RandomForestClassifier(bootstrap=True, class_weight=None, criterion='gini',\n",
       "            max_depth=300, max_features='sqrt', max_leaf_nodes=None,\n",
       "            min_impurity_decrease=0.0, min_impurity_split=None,\n",
       "            min_samples_leaf=1, min_samples_split=2,\n",
       "            min_wei...dom_state=None, refit=True, scoring='precision',\n",
       "           solver='lbfgs', tol=0.0001, verbose=0))],\n",
       "         flatten_transform=None, n_jobs=-1, voting='hard', weights=None)"
      ]
     },
     "execution_count": 98,
     "metadata": {},
     "output_type": "execute_result"
    }
   ],
   "source": [
    "voting_classifer_hard= VotingClassifier(estimators=model_list,\n",
    "                                    voting='hard', \n",
    "                                    n_jobs=-1)\n",
    "voting_classifer_hard.fit(X_train_os, y_train_os)\n",
    "\n"
   ]
  },
  {
   "cell_type": "code",
   "execution_count": 99,
   "metadata": {},
   "outputs": [],
   "source": [
    "pickle.dump(voting_classifer_hard, open('voting_classifer_hard.p','wb'))"
   ]
  },
  {
   "cell_type": "code",
   "execution_count": null,
   "metadata": {},
   "outputs": [],
   "source": []
  }
 ],
 "metadata": {
  "kernelspec": {
   "display_name": "Python 3",
   "language": "python",
   "name": "python3"
  },
  "language_info": {
   "codemirror_mode": {
    "name": "ipython",
    "version": 3
   },
   "file_extension": ".py",
   "mimetype": "text/x-python",
   "name": "python",
   "nbconvert_exporter": "python",
   "pygments_lexer": "ipython3",
   "version": "3.6.8"
  },
  "varInspector": {
   "cols": {
    "lenName": 16,
    "lenType": 16,
    "lenVar": 40
   },
   "kernels_config": {
    "python": {
     "delete_cmd_postfix": "",
     "delete_cmd_prefix": "del ",
     "library": "var_list.py",
     "varRefreshCmd": "print(var_dic_list())"
    },
    "r": {
     "delete_cmd_postfix": ") ",
     "delete_cmd_prefix": "rm(",
     "library": "var_list.r",
     "varRefreshCmd": "cat(var_dic_list()) "
    }
   },
   "types_to_exclude": [
    "module",
    "function",
    "builtin_function_or_method",
    "instance",
    "_Feature"
   ],
   "window_display": false
  }
 },
 "nbformat": 4,
 "nbformat_minor": 2
}
